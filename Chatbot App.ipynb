{
 "cells": [
  {
   "cell_type": "code",
   "execution_count": 5,
   "metadata": {},
   "outputs": [],
   "source": [
    "import gradio as gr\n",
    "\n",
    "# Define a simple Conversation class\n",
    "class Conversation:\n",
    "    def __init__(self, system_message):\n",
    "        self.system_message = system_message\n",
    "\n",
    "    def generate(self, user_input, model, temp):\n",
    "        # This is a placeholder for the actual response generation logic\n",
    "        return f\"Model: {model}, Temp: {temp}, User Input: {user_input}\"\n",
    "\n",
    "# Initialize the conversation with a system message\n",
    "conversation = Conversation(\"You are an expert in literature. You provide brief replies.\")\n",
    "\n",
    "# Define a function to generate a response to the user's input\n",
    "def generate_response(user_input, model_size, temperature):\n",
    "    try:\n",
    "        model_size = int(model_size)\n",
    "        if model_size not in [8, 70, 405]:\n",
    "            return \"Invalid model size. Please choose from 8, 70, or 405.\"\n",
    "        temperature = float(temperature)\n",
    "        if temperature < 0 or temperature > 1:\n",
    "            return \"Invalid temperature. Please choose a value between 0 and 1.\"\n",
    "        response = conversation.generate(user_input, model=model_size, temp=temperature)\n",
    "        return response\n",
    "    except Exception as e:\n",
    "        return str(e)\n",
    "\n",
    "# Create a Gradio interface for the chatbot\n",
    "demo = gr.Interface(\n",
    "    fn=generate_response,\n",
    "    inputs=[\n",
    "        gr.Textbox(label=\"User Input\"),\n",
    "        gr.Radio(label=\"Model Size\", choices=[\"8\", \"70\", \"405\"]),\n",
    "        gr.Slider(label=\"Temperature\", minimum=0, maximum=1, step=0.1, value=0)\n",
    "    ],\n",
    "    outputs=gr.Textbox(label=\"Response\"),\n",
    "    title=\"Literature Expert Chatbot\",\n",
    "    description=\"Ask a question about literature and get a brief response from an expert.\"\n",
    ")\n",
    "\n",
    "# Launch the Gradio app\n",
    "demo.launch(server_name=\"0.0.0.0\")\n"
   ]
  }
 ],
 "metadata": {
  "kernelspec": {
   "display_name": "Python 3",
   "language": "python",
   "name": "python3"
  },
  "language_info": {
   "codemirror_mode": {
    "name": "ipython",
    "version": 3
   },
   "file_extension": ".py",
   "mimetype": "text/x-python",
   "name": "python",
   "nbconvert_exporter": "python",
   "pygments_lexer": "ipython3",
   "version": "3.12.6"
  }
 },
 "nbformat": 4,
 "nbformat_minor": 2
}
